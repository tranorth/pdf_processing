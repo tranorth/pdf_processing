{
 "cells": [
  {
   "cell_type": "code",
   "execution_count": 1,
   "id": "79112c28",
   "metadata": {},
   "outputs": [],
   "source": [
    "import os\n",
    "from agent import create_pdf_agent\n",
    "from main import process_pdf_with_agent\n",
    "from pathlib import Path"
   ]
  },
  {
   "cell_type": "code",
   "execution_count": 2,
   "id": "bf31fbc1",
   "metadata": {},
   "outputs": [
    {
     "name": "stdout",
     "output_type": "stream",
     "text": [
      "Found 21 PDF files\n"
     ]
    }
   ],
   "source": [
    "# report_dir = r\"S:\\13 - DataPoint\\Projects\\Industrial\\Broker Market Reports Parse\\CBRE\\Current Market Reports\\2025\"\n",
    "report_dir = r\"2025 Q2\"\n",
    "\n",
    "# Get list of all PDF files in directory\n",
    "pdf_files = []\n",
    "for file in Path(report_dir).glob('*.pdf'):\n",
    "    pdf_files.append(str(file))\n",
    "\n",
    "print(f\"Found {len(pdf_files)} PDF files\")"
   ]
  },
  {
   "cell_type": "code",
   "execution_count": 3,
   "id": "b0060a6b",
   "metadata": {},
   "outputs": [
    {
     "name": "stdout",
     "output_type": "stream",
     "text": [
      "Building the agent for the test...\n",
      "\n",
      "--- Testing process_pdf_with_agent on: 2025 Q2\\Austin.pdf ---\n",
      "\n",
      "--- Starting processing for: Austin.pdf ---\n",
      "\n",
      "\n",
      "\u001b[1m> Entering new AgentExecutor chain...\u001b[0m\n",
      "\u001b[32;1m\u001b[1;3m\n",
      "Invoking: `extract_all_tables_from_pdf` with `{'pdf_path': '2025 Q2\\\\Austin.pdf'}`\n",
      "\n",
      "\n",
      "\u001b[0m🔎 Extracting all tables from: 2025 Q2\\Austin.pdf\n",
      "\u001b[36;1m\u001b[1;3m['\"FIGURES | AUSTIN INDUSTRIAL | Q2 2025\\nFIGURES | AUSTIN INDUSTRIAL | Q2 2025\\nNew development surges as 1.9 million sq. ft.\\nbreaks ground in Q2\\n17.2% 52,772 2.2M 6.6M $14.09\"\\r\\n\"\"\\r\\n\"\"\\r\\n', ',,,,,,,,,,,,,,,,,,,,,,,,,,,,,,,\\r\\n,,,,,,,,,,,,,,,,,,,,,,,,,,,,,,,\\r\\n,,,,,,,,,,,,,,,,,,,,,,,,,,,,,,,\\r\\n,,,,,,,,,,,,,,,,,,,,,,,,,,,,,,,\\r\\n,,,,,,,,,,,,,,,,,,,,,,,,,,,,,,,\\r\\n,,,,,,,,,,,,,,,,,,,,,,,,,,,,,,,\\r\\n,,,,,,,,,,,,,,,,,,,,,,,,,,,,,,,\\r\\n,,,,,,,,,,,,,,,,,,,,,,,,,,,,,,,\\r\\n,,,,,,,,,,,,,,,,,,,,,,,,,,,,,,,\\r\\n,,,,,,,,,,,,,,,,,,,,,,,,,,,,,,,\\r\\n,,,,,,,,,,,,,,,,,,,,,,,,,,,,,,,\\r\\n', ',,,,,\\r\\n,,,,,\\r\\n,,,,,\\r\\n,,,,,\\r\\n,,,,,\\r\\n,,,,,\\r\\n,,,,,\\r\\n,,,,,\\r\\n,,,,,\\r\\n,,,,,\\r\\n,,,,,\\r\\n', 'Building Name,Submarket,Size (Sq. Ft.),Owner/Developer,Pre-Leased %\\r\\n\"Mustang Ridge Business Park –\\nBuilding 2\",Southeast,\"538,720\",,\\r\\nGTX Logistics Park – Building 2,Far North,\"412,470\",,\\r\\nCTX 110 – Building 4,Hays County,\"335,879\",,\\r\\nHutto Crossing – Building 3,Far Northeast,\"280,229\",,\\r\\nBurleson Tech – Building B,Southeast,\"263,662\",,\\r\\n', ',,,,\\r\\n,,,,\\r\\n,,,,\\r\\n,,,,\\r\\n,,,,\\r\\n,,,,\\r\\n', ',,,,,,,,,,,,,,,,,,,,\\r\\n,,,,,,,,,,,,,,,,,,,,\\r\\n,,,,,,,,,,,,,,,,,,,,\\r\\n,,,,,,,,,,,,,,,,,,,,\\r\\n', ',Net Rentable Area,Total Vacancy,Total Availability,Direct Availability,Sublease Availability,\"Avg. Direct Asking\\nRate (NNN/YR)\",\"Current Quarter Net\\nAbsorption\",YTD Net Absorption,Deliveries,Under Construction\\r\\n,\"47,363,904\",13.0,16.3,14.8 1.5,,15.13,\"(314,176)\",\"(33,679)\",\"269,959\",\"1,357,674\"\\r\\n,\"29,724,674\",22.5,26.2,23.8 2.3,,11.35,\"86,712\",\"405,294\",\"1,227,877\",\"2,707,035\"\\r\\n,\"11,354,543\",22.1,26.3,24.2 2.1,,10.20,\"280,236\",\"391,405\",\"750,766\",\"1,243,637\"\\r\\n,\"8,787,030\",27.8,27.8,27.4 0.4,,9.24,0,\"98,410\",0,\"748,349\"\\r\\n,\"570,489\",0.0,0.0,0.0 0.0,,-,0,0,0,\"538,720\"\\r\\n,\"5,464,019\",0.0,0.0,0.0 0.0,,-,0,0,0,0\\r\\n,\"103,264,659\",17.2,20.3,18.6 1.6,,14.09,\"52,772\",\"861,430\",\"2,248,602\",\"6,595,415\"\\r\\n', ',Net Rentable Area,Total Vacancy,Total Availability,Direct Availability,Sublease Availability,\"Avg. Direct Asking\\nRate (NNN/YR)\",\"Current Quarter Net\\nAbsorption\",YTD Net Absorption,Deliveries,Under Construction\\r\\n,\"75,586,445\",19.1,21.9,20.4 1.5,,12.70,\"183,362\",\"1,021,092\",\"2,085,130\",\"6,423,055\"\\r\\n,\"4,384,690\",9.7,9.7,7.2 2.6,,11.79,\"99,253\",\"99,253\",\"163,472\",\"172,360\"\\r\\n,\"23,270,728\",12.8,16.9,15.1 1.7,,18.79,\"(236,439)\",\"(265,511)\",0,0\\r\\n,\"22,796\",15.9,15.9,15.9 0.0,,17.50,\"6,596\",\"6,596\",0,0\\r\\n,\"103,264,659\",17.2,20.3,18.6 1.6,,14.09,\"52,772\",\"861,430\",\"2,248,602\",\"6,595,415\"\\r\\n', ',Net Rentable Area,Total Vacancy,Total Availability,Direct Availability,Sublease Availability,\"Avg. Direct Asking\\nRate (NNN/YR)\",\"Current Quarter Net\\nAbsorption\",YTD Net Absorption,Deliveries,Under Construction\\r\\n,\"44,585,976\",25.0,28.0,26.6 1.4,,11.98,\"499,522\",\"1,218,130\",\"861,500\",\"5,661,812\"\\r\\n,\"58,678,683\",13.3,16.5,14.9 1.5,,14.63,\"(446,750)\",\"(356,700)\",\"1,387,102\",\"933,603\"\\r\\n,\"103,264,659\",17.2,20.3,18.6 1.6,,14.09,\"52,772\",\"861,430\",\"2,248,602\",\"6,595,415\"\\r\\n', ',Net Rentable Area,Total Vacancy,Total Availability,Direct Availability,Sublease Availability,\"Avg. Direct Asking\\nRate (NNN/YR)\",\"Current Quarter Net\\nAbsorption\",YTD Net Absorption,Deliveries,Under Construction\\r\\n,\"605,133\",3.1,3.1,3.1 0.0,,6.0,0,0,0,0\\r\\n,\"750,476\",22.0,53.2,53.2 0.0,,,0,0,0,\"62,360\"\\r\\n,\"5,408,135\",16.5,18.1,16.1 2.1,,17.03,\"50,880\",\"79,332\",0,0\\r\\n,\"1,365,522\",7.7,9.0,8.3 0.7,,12.0,\"(25,024)\",\"(44,205)\",0,0\\r\\n,\"5,899,006\",35.8,40.5,38.6 2.0,,23.4,\"223,342\",\"292,812\",\"544,160\",0\\r\\n,\"7,878,254\",28.0,29.4,28.8 0.7,,16.49,\"(7,607)\",\"74,456\",\"520,571\",\"412,470\"\\r\\n,\"3,280,125\",31.2,31.7,31.7 0.0,,10.76,\"(3,100)\",\"31,200\",0,\"1,075,570\"\\r\\n,\"12,424,045\",14.6,16.9,16.7 0.2,,11.88,\"82,472\",\"401,722\",0,\"1,716,679\"\\r\\n,\"14,806,490\",9.6,15.3,13.1 2.2,,14.92,\"(132,629)\",\"(290,805)\",0,0\\r\\n,\"22,238,265\",13.8,16.2,14.6 1.6,,14.23,\"180,936\",\"176,909\",\"163,472\",\"723,030\"\\r\\n,\"315,182\",5.6,6.8,6.8 0.0,,17.81,0,\"(1,500)\",0,0\\r\\n,\"6,142,180\",21.8,21.7,20.7 1.0,,13.46,\"(24,807)\",\"(42,920)\",\"361,136\",\"15,000\"\\r\\n,\"2,123,076\",7.6,8.3,7.0 1.3,,16.86,\"(38,395)\",\"(71,887)\",0,\"303,112\"\\r\\n,\"18,857,243\",16.8,19.9,17.0 3.0,,16.06,\"(265,138)\",\"246,974\",\"389,304\",\"2,287,194\"\\r\\n,\"1,171,527\",26.5,32.7,31.8 0.8,,22.91,\"11,842\",\"9,342\",\"269,959\",0\\r\\n,\"103,264,659\",17.2,20.3,18.6 1.6,,14.09,\"52,772\",\"861,430\",\"2,248,602\",\"6,595,415\"\\r\\n', '\"FIGURES | AUSTIN INDUSTRIAL | Q2 2025\\nMarket Area Overview\\nDefinitions\\nAvailable Sq. Ft.: Space in a building, ready for occupancy within six months; can be occupied or vacant. Availability Rate: Total\\nAvailable Sq. Ft. divided by the total building Area. Average Asking Lease Rate: A calculated average that includes net and gross\\nlease rate, weighted by their corresponding available square footage. Building Area: The total floor area sq. ft. of the building,\\ntypically taken at the “drip line” of the building. Gross Activity: All sale and lease transactions completed within a specified time\\nperiod. Excludes investment sale transactions. Gross Lease Rate: Rent typically includes real property taxes, building insurance,\\nand major maintenance. Net Absorption: The change in Occupied Sq. Ft. from one period to the next. Net Lease Rate: Rent\\nexcludes one or more of the ”net” costs (real property taxes, building insurance, and major maintenance) typically included in a\\nGross Lease Rate. Occupied Sq. Ft.: Building Area not considered vacant. Vacancy Rate: Total Vacant Sq. Ft. divided by the total\\nBuilding Area. Vacant Sq. Ft.: Space that can be occupied within 30 days. Class A industrial are buildings built after 2000, with 32’\\nor greater clear height and ESFR sprinklers.\\nSurvey Criteria\\nIncludes all non-owner occupied, non-medical industrial buildings 10,000 sq. ft. and greater in size in the greater metropolitan area\\nof Austin, TX. Buildings which have begun construction as evidenced by site excavation or foundation work.\\nContacts\\nJack Rancier Marc L. Miller\\nField Research Analyst Research Director\\n+1 505 803 7400 marc.miller1@cbre.com\\njack.rancier@cbre.com\\n© 2024 CBRE, Inc. All rights reserved. This information has been obtained from sources believed reliable but has not been verified for accuracy or completeness. CBRE, Inc. makes no guarantee, representation or warranty and accepts no responsibility or liability as to the accuracy,\\ncompleteness, or reliability of the information contained herein. You should conduct a careful, independent investigation of the property and verify all information. Any reliance on this information is solely at your own risk. CBRE and the CBRE logo are service marks of CBRE, Inc. All other\\nmarks displayed on this document are the property of their respective owners, and the use of such marks does not imply any affiliation with or endorsement of CBRE. Photos herein are the property of their respective owners. Use of these images without the express written consent of\\n©the 2 o0w25n eCrB iRs Ep,r Ionhci.b Aitlle rdi.ghts reserved. This information has been obtained from sources believed reliable but has not been verified for accuracy or completeness. CBRE, Inc. makes no guarantee, representation or warranty and accepts no responsibility or liability as to the accuracy,\"\\r\\n\"completeness, or reliability of the information contained herein. You should conduct a careful, independent investigation of the property and verify all information. Any reliance on this information is solely at your own risk. CBRE and the CBRE logo are service marks of CBRE, Inc. All other\\nmarks displayed on this document are the property of their respective owners, and the use of such marks does not imply any affiliation with or endorsement of CBRE. Photos herein are the property of their respective owners. Use of these images without the express written consent of\\n6 tChBe RowEn ReEr SisE pAroRhCibHited. © 2025 CBRE, INC.\"\\r\\n']\u001b[0m\u001b[32;1m\u001b[1;3m\n",
      "Invoking: `select_submarket_statistics_table` with `{'tables': ['\"FIGURES | AUSTIN INDUSTRIAL | Q2 2025\\\\nFIGURES | AUSTIN INDUSTRIAL | Q2 2025\\\\nNew development surges as 1.9 million sq. ft.\\\\nbreaks ground in Q2\\\\n17.2% 52,772 2.2M 6.6M $14.09\\\\\"\\\\r\\\\n\\\\\"\\\\\"\\\\r\\\\n\\\\\"\\\\\"\\\\r\\\\n', ',,,,,,,,,,,,,,,,,,,,,,,,,,,,,,,\\\\r\\\\n,,,,,,,,,,,,,,,,,,,,,,,,,,,,,,,\\\\r\\\\n,,,,,,,,,,,,,,,,,,,,,,,,,,,,,,,\\\\r\\\\n,,,,,,,,,,,,,,,,,,,,,,,,,,,,,,,\\\\r\\\\n,,,,,,,,,,,,,,,,,,,,,,,,,,,,,,,\\\\r\\\\n,,,,,,,,,,,,,,,,,,,,,,,,,,,,,,,\\\\r\\\\n,,,,,,,,,,,,,,,,,,,,,,,,,,,,,,,\\\\r\\\\n,,,,,,,,,,,,,,,,,,,,,,,,,,,,,,,\\\\r\\\\n,,,,,,,,,,,,,,,,,,,,,,,,,,,,,,,\\\\r\\\\n,,,,,,,,,,,,,,,,,,,,,,,,,,,,,,,\\\\r\\\\n,,,,,,,,,,,,,,,,,,,,,,,,,,,,,,,\\\\r\\\\n', ',,,,,\\\\r\\\\n,,,,,\\\\r\\\\n,,,,,\\\\r\\\\n,,,,,\\\\r\\\\n,,,,,\\\\r\\\\n,,,,,\\\\r\\\\n,,,,,\\\\r\\\\n,,,,,\\\\r\\\\n,,,,,\\\\r\\\\n,,,,,\\\\r\\\\n,,,,,\\\\r\\\\n', '\"Building Name,Submarket,Size (Sq. Ft.),Owner/Developer,Pre-Leased %\\\\r\\\\n\\\\\"Mustang Ridge Business Park –\\\\nBuilding 2\\\\\",Southeast,\\\\\"538,720\\\\\",,\\\\r\\\\nGTX Logistics Park – Building 2,Far North,\\\\\"412,470\\\\\",,\\\\r\\\\nCTX 110 – Building 4,Hays County,\\\\\"335,879\\\\\",,\\\\r\\\\nHutto Crossing – Building 3,Far Northeast,\\\\\"280,229\\\\\",,\\\\r\\\\nBurleson Tech – Building B,Southeast,\\\\\"263,662\\\\\",,\\\\r\\\\n', ',,,,\\\\r\\\\n,,,,\\\\r\\\\n,,,,\\\\r\\\\n,,,,\\\\r\\\\n,,,,\\\\r\\\\n,,,,\\\\r\\\\n', ',,,,,,,,,,,,,,,,,,,,\\\\r\\\\n,,,,,,,,,,,,,,,,,,,,\\\\r\\\\n,,,,,,,,,,,,,,,,,,,,\\\\r\\\\n,,,,,,,,,,,,,,,,,,,,\\\\r\\\\n', ',Net Rentable Area,Total Vacancy,Total Availability,Direct Availability,Sublease Availability,\\\\\"Avg. Direct Asking\\\\nRate (NNN/YR)\\\\\",\\\\\"Current Quarter Net\\\\nAbsorption\\\\\",YTD Net Absorption,Deliveries,Under Construction\\\\r\\\\n,\\\\\"47,363,904\\\\\",13.0,16.3,14.8 1.5,,15.13,\\\\\"(314,176)\\\\\",\\\\\"(33,679)\\\\\",\\\\\"269,959\\\\\",\\\\\"1,357,674\\\\\"\\\\r\\\\n,\\\\\"29,724,674\\\\\",22.5,26.2,23.8 2.3,,11.35,\\\\\"86,712\\\\\",\\\\\"405,294\\\\\",\\\\\"1,227,877\\\\\",\\\\\"2,707,035\\\\\"\\\\r\\\\n,\\\\\"11,354,543\\\\\",22.1,26.3,24.2 2.1,,10.20,\\\\\"280,236\\\\\",\\\\\"391,405\\\\\",\\\\\"750,766\\\\\",\\\\\"1,243,637\\\\\"\\\\r\\\\n,\\\\\"8,787,030\\\\\",27.8,27.8,27.4 0.4,,9.24,0,\\\\\"98,410\\\\\",0,\\\\\"748,349\\\\\"\\\\r\\\\n,\\\\\"570,489\\\\\",0.0,0.0,0.0 0.0,,-,0,0,0,\\\\\"538,720\\\\\"\\\\r\\\\n,\\\\\"5,464,019\\\\\",0.0,0.0,0.0 0.0,,-,0,0,0,0\\\\r\\\\n,\\\\\"103,264,659\\\\\",17.2,20.3,18.6 1.6,,14.09,\\\\\"52,772\\\\\",\\\\\"861,430\\\\\",\\\\\"2,248,602\\\\\",\\\\\"6,595,415\\\\\"\\\\r\\\\n', ',Net Rentable Area,Total Vacancy,Total Availability,Direct Availability,Sublease Availability,\\\\\"Avg. Direct Asking\\\\nRate (NNN/YR)\\\\\",\\\\\"Current Quarter Net\\\\nAbsorption\\\\\",YTD Net Absorption,Deliveries,Under Construction\\\\r\\\\n,\\\\\"75,586,445\\\\\",19.1,21.9,20.4 1.5,,12.70,\\\\\"183,362\\\\\",\\\\\"1,021,092\\\\\",\\\\\"2,085,130\\\\\",\\\\\"6,423,055\\\\\"\\\\r\\\\n,\\\\\"4,384,690\\\\\",9.7,9.7,7.2 2.6,,11.79,\\\\\"99,253\\\\\",\\\\\"99,253\\\\\",\\\\\"163,472\\\\\",\\\\\"172,360\\\\\"\\\\r\\\\n,\\\\\"23,270,728\\\\\",12.8,16.9,15.1 1.7,,18.79,\\\\\"(236,439)\\\\\",\\\\\"(265,511)\\\\\",0,0\\\\r\\\\n,\\\\\"22,796\\\\\",15.9,15.9,15.9 0.0,,17.50,\\\\\"6,596\\\\\",\\\\\"6,596\\\\\",0,0\\\\r\\\\n,\\\\\"103,264,659\\\\\",17.2,20.3,18.6 1.6,,14.09,\\\\\"52,772\\\\\",\\\\\"861,430\\\\\",\\\\\"2,248,602\\\\\",\\\\\"6,595,415\\\\\"\\\\r\\\\n', ',Net Rentable Area,Total Vacancy,Total Availability,Direct Availability,Sublease Availability,\\\\\"Avg. Direct Asking\\\\nRate (NNN/YR)\\\\\",\\\\\"Current Quarter Net\\\\nAbsorption\\\\\",YTD Net Absorption,Deliveries,Under Construction\\\\r\\\\n,\\\\\"44,585,976\\\\\",25.0,28.0,26.6 1.4,,11.98,\\\\\"499,522\\\\\",\\\\\"1,218,130\\\\\",\\\\\"861,500\\\\\",\\\\\"5,661,812\\\\\"\\\\r\\\\n,\\\\\"58,678,683\\\\\",13.3,16.5,14.9 1.5,,14.63,\\\\\"(446,750)\\\\\",\\\\\"(356,700)\\\\\",\\\\\"1,387,102\\\\\",\\\\\"933,603\\\\\"\\\\r\\\\n,\\\\\"103,264,659\\\\\",17.2,20.3,18.6 1.6,,14.09,\\\\\"52,772\\\\\",\\\\\"861,430\\\\\",\\\\\"2,248,602\\\\\",\\\\\"6,595,415\\\\\"\\\\r\\\\n', ',Net Rentable Area,Total Vacancy,Total Availability,Direct Availability,Sublease Availability,\\\\\"Avg. Direct Asking\\\\nRate (NNN/YR)\\\\\",\\\\\"Current Quarter Net\\\\nAbsorption\\\\\",YTD Net Absorption,Deliveries,Under Construction\\\\r\\\\n,\\\\\"605,133\\\\\",3.1,3.1,3.1 0.0,,6.0,0,0,0,0\\\\r\\\\n,\\\\\"750,476\\\\\",22.0,53.2,53.2 0.0,,,0,0,0,\\\\\"62,360\\\\\"\\\\r\\\\n,\\\\\"5,408,135\\\\\",16.5,18.1,16.1 2.1,,17.03,\\\\\"50,880\\\\\",\\\\\"79,332\\\\\",0,0\\\\r\\\\n,\\\\\"1,365,522\\\\\",7.7,9.0,8.3 0.7,,12.0,\\\\\"(25,024)\\\\\",\\\\\"(44,205)\\\\\",0,0\\\\r\\\\n,\\\\\"5,899,006\\\\\",35.8,40.5,38.6 2.0,,23.4,\\\\\"223,342\\\\\",\\\\\"292,812\\\\\",\\\\\"544,160\\\\\",0\\\\r\\\\n,\\\\\"7,878,254\\\\\",28.0,29.4,28.8 0.7,,16.49,\\\\\"(7,607)\\\\\",\\\\\"74,456\\\\\",\\\\\"520,571\\\\\",\\\\\"412,470\\\\\"\\\\r\\\\n,\\\\\"3,280,125\\\\\",31.2,31.7,31.7 0.0,,10.76,\\\\\"(3,100)\\\\\",\\\\\"31,200\\\\\",0,\\\\\"1,075,570\\\\\"\\\\r\\\\n,\\\\\"12,424,045\\\\\",14.6,16.9,16.7 0.2,,11.88,\\\\\"82,472\\\\\",\\\\\"401,722\\\\\",0,\\\\\"1,716,679\\\\\"\\\\r\\\\n,\\\\\"14,806,490\\\\\",9.6,15.3,13.1 2.2,,14.92,\\\\\"(132,629)\\\\\",\\\\\"(290,805)\\\\\",0,0\\\\r\\\\n,\\\\\"22,238,265\\\\\",13.8,16.2,14.6 1.6,,14.23,\\\\\"180,936\\\\\",\\\\\"176,909\\\\\",\\\\\"163,472\\\\\",\\\\\"723,030\\\\\"\\\\r\\\\n,\\\\\"315,182\\\\\",5.6,6.8,6.8 0.0,,17.81,0,\\\\\"(1,500)\\\\\",0,0\\\\r\\\\n,\\\\\"6,142,180\\\\\",21.8,21.7,20.7 1.0,,13.46,\\\\\"(24,807)\\\\\",\\\\\"(42,920)\\\\\",\\\\\"361,136\\\\\",\\\\\"15,000\\\\\"\\\\r\\\\n,\\\\\"2,123,076\\\\\",7.6,8.3,7.0 1.3,,16.86,\\\\\"(38,395)\\\\\",\\\\\"(71,887)\\\\\",0,\\\\\"303,112\\\\\"\\\\r\\\\n,\\\\\"18,857,243\\\\\",16.8,19.9,17.0 3.0,,16.06,\\\\\"(265,138)\\\\\",\\\\\"246,974\\\\\",\\\\\"389,304\\\\\",\\\\\"2,287,194\\\\\"\\\\r\\\\n,\\\\\"1,171,527\\\\\",26.5,32.7,31.8 0.8,,22.91,\\\\\"11,842\\\\\",\\\\\"9,342\\\\\",\\\\\"269,959\\\\\",0\\\\r\\\\n,\\\\\"103,264,659\\\\\",17.2,20.3,18.6 1.6,,14.09,\\\\\"52,772\\\\\",\\\\\"861,430\\\\\",\\\\\"2,248,602\\\\\",\\\\\"6,595,415\\\\\"\\\\r\\\\n', '\"\\\\\"FIGURES | AUSTIN INDUSTRIAL | Q2 2025\\\\nMarket Area Overview\\\\nDefinitions\\\\nAvailable Sq. Ft.: Space in a building, ready for occupancy within six months; can be occupied or vacant. Availability Rate: Total\\\\nAvailable Sq. Ft. divided by the total building Area. Average Asking Lease Rate: A calculated average that includes net and gross\\\\nlease rate, weighted by their corresponding available square footage. Building Area: The total floor area sq. ft. of the building,\\\\ntypically taken at the “drip line” of the building. Gross Activity: All sale and lease transactions completed within a specified time\\\\nperiod. Excludes investment sale transactions. Gross Lease Rate: Rent typically includes real property taxes, building insurance,\\\\nand major maintenance. Net Absorption: The change in Occupied Sq. Ft. from one period to the next. Net Lease Rate: Rent\\\\nexcludes one or more of the ”net” costs (real property taxes, building insurance, and major maintenance) typically included in a\\\\nGross Lease Rate. Occupied Sq. Ft.: Building Area not considered vacant. Vacancy Rate: Total Vacant Sq. Ft. divided by the total\\\\nBuilding Area. Vacant Sq. Ft.: Space that can be occupied within 30 days. Class A industrial are buildings built after 2000, with 32’\\\\nor greater clear height and ESFR sprinklers.\\\\nSurvey Criteria\\\\nIncludes all non-owner occupied, non-medical industrial buildings 10,000 sq. ft. and greater in size in the greater metropolitan area\\\\nof Austin, TX. Buildings which have begun construction as evidenced by site excavation or foundation work.\\\\nContacts\\\\nJack Rancier Marc L. Miller\\\\nField Research Analyst Research Director\\\\n+1 505 803 7400 marc.miller1@cbre.com\\\\njack.rancier@cbre.com\\\\n© 2024 CBRE, Inc. All rights reserved. This information has been obtained from sources believed reliable but has not been verified for accuracy or completeness. CBRE, Inc. makes no guarantee, representation or warranty and accepts no responsibility or liability as to the accuracy,\\\\ncompleteness, or reliability of the information contained herein. You should conduct a careful, independent investigation of the property and verify all information. Any reliance on this information is solely at your own risk. CBRE and the CBRE logo are service marks of CBRE, Inc. All other\\\\nmarks displayed on this document are the property of their respective owners, and the use of such marks does not imply any affiliation with or endorsement of CBRE. Photos herein are the property of their respective owners. Use of these images without the express written consent of\\\\n©the 2 o0w25n eCrB iRs Ep,r Ionhci.b Aitlle rdi.ghts reserved. This information has been obtained from sources believed reliable but has not been verified for accuracy or completeness. CBRE, Inc. makes no guarantee, representation or warranty and accepts no responsibility or liability as to the accuracy,\\\\\"\\\\r\\\\n\\\\\"completeness, or reliability of the information contained herein. You should conduct a careful, independent investigation of the property and verify all information. Any reliance on this information is solely at your own risk. CBRE and the CBRE logo are service marks of CBRE, Inc. All other\\\\nmarks displayed on this document are the property of their respective owners, and the use of such marks does not imply any affiliation with or endorsement of CBRE. Photos herein are the property of their respective owners. Use of these images without the express written consent of\\\\n6 tChBe RowEn ReEr SisE pAroRhCibHited. © 2025 CBRE, INC.\\\\\"\\\\r\\\\n']}`\n",
      "\n",
      "\n",
      "\u001b[0m🤖 Deciphering which table is correct...\n",
      "✅ Selected Table #4.\n",
      "\u001b[33;1m\u001b[1;3m\"Building Name,Submarket,Size (Sq. Ft.),Owner/Developer,Pre-Leased %\\r\\n\\\"Mustang Ridge Business Park –\\nBuilding 2\\\",Southeast,\\\"538,720\\\",,\\r\\nGTX Logistics Park – Building 2,Far North,\\\"412,470\\\",,\\r\\nCTX 110 – Building 4,Hays County,\\\"335,879\\\",,\\r\\nHutto Crossing – Building 3,Far Northeast,\\\"280,229\\\",,\\r\\nBurleson Tech – Building B,Southeast,\\\"263,662\\\",,\\r\\n\u001b[0m\u001b[32;1m\u001b[1;3m\n",
      "Invoking: `process_and_validate_table` with `{'raw_table_data': '\"Building Name,Submarket,Size (Sq. Ft.),Owner/Developer,Pre-Leased %\\\\r\\\\n\\\\\"Mustang Ridge Business Park –\\\\nBuilding 2\\\\\",Southeast,\\\\\"538,720\\\\\",,\\\\r\\\\nGTX Logistics Park – Building 2,Far North,\\\\\"412,470\\\\\",,\\\\r\\\\nCTX 110 – Building 4,Hays County,\\\\\"335,879\\\\\",,\\\\r\\\\nHutto Crossing – Building 3,Far Northeast,\\\\\"280,229\\\\\",,\\\\r\\\\nBurleson Tech – Building B,Southeast,\\\\\"263,662\\\\\",,\\\\r\\\\n'}`\n",
      "\n",
      "\n",
      "\u001b[0m⚙️ Formatting selected table...\n",
      "✅ Validating final CSV...\n",
      "--- Validation Report ---\n",
      "No, the table is incomplete as most data points are missing and the numerical values appear to be incorrectly placed in the `rent_q` column.\n",
      "\u001b[38;5;200m\u001b[1;3mprimary_submarket,secondary_submarket,property_type,total_inventory_q,vacancy_q,net_absorption_q,under_construction_q,rent_q,delivered_q,leasing_activity_q\n",
      "Southeast,,,,,,,538720,,,\n",
      "Far North,,,,,,,412470,,,\n",
      "Hays County,,,,,,,335879,,,\n",
      "Far Northeast,,,,,,,280229,,,\n",
      "Southeast,,,,,,,263662,,,\u001b[0m\u001b[32;1m\u001b[1;3m```csv\n",
      "primary_submarket,secondary_submarket,property_type,total_inventory_q,vacancy_q,net_absorption_q,under_construction_q,rent_q,delivered_q,leasing_activity_q\n",
      "Southeast,,,,,,,538720,,,\n",
      "Far North,,,,,,,412470,,,\n",
      "Hays County,,,,,,,335879,,,\n",
      "Far Northeast,,,,,,,280229,,,\n",
      "Southeast,,,,,,,263662,,,\n",
      "```\u001b[0m\n",
      "\n",
      "\u001b[1m> Finished chain.\u001b[0m\n",
      "❌ Agent did not return valid CSV data for Austin.pdf.\n",
      "   Received: ```csv\n",
      "primary_submarket,secondary_submarket,property_type,total_inventory_q,vacancy_q,net_absorption_q,under_construction_q,rent_q,delivered_q,leasing_activity_q\n",
      "Southeast,,,,,,,538720,,,\n",
      "Far North,,,,,,,412470,,,\n",
      "Hays County,,,,,,,335879,,,\n",
      "Far Northeast,,,,,,,280229,,,\n",
      "Southeast,,,,,,,263662,,,\n",
      "```\n",
      "\n",
      "--- Test complete. ---\n"
     ]
    }
   ],
   "source": [
    "# 1. Path to the single PDF you want to test\n",
    "#    Make sure this PDF is in your 'data' folder.\n",
    "# single_pdf_path = os.path.join(\"2025 Q2\", \"Austin.pdf\")\n",
    "\n",
    "single_pdf_path = pdf_files[0]\n",
    "\n",
    "if not os.path.exists(single_pdf_path):\n",
    "    print(f\"Test file not found: {single_pdf_path}\")\n",
    "else:\n",
    "    # 2. Create the agent, just like in main.py\n",
    "    print(\"Building the agent for the test...\")\n",
    "    pdf_agent_executor = create_pdf_agent()\n",
    "\n",
    "    # 3. Call the specific function you want to test\n",
    "    print(f\"\\n--- Testing process_pdf_with_agent on: {single_pdf_path} ---\")\n",
    "    df =process_pdf_with_agent(\n",
    "        pdf_path=single_pdf_path, \n",
    "        agent_executor=pdf_agent_executor\n",
    "    )\n",
    "    print(\"\\n--- Test complete. ---\")"
   ]
  },
  {
   "cell_type": "code",
   "execution_count": 4,
   "id": "cf430213",
   "metadata": {},
   "outputs": [],
   "source": [
    "df"
   ]
  }
 ],
 "metadata": {
  "kernelspec": {
   "display_name": "Python 3",
   "language": "python",
   "name": "python3"
  },
  "language_info": {
   "codemirror_mode": {
    "name": "ipython",
    "version": 3
   },
   "file_extension": ".py",
   "mimetype": "text/x-python",
   "name": "python",
   "nbconvert_exporter": "python",
   "pygments_lexer": "ipython3",
   "version": "3.13.3"
  }
 },
 "nbformat": 4,
 "nbformat_minor": 5
}
